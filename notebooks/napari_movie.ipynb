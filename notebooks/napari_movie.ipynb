{
 "cells": [
  {
   "cell_type": "code",
   "execution_count": 1,
   "metadata": {},
   "outputs": [],
   "source": [
    "from scipy import ndimage as ndi\n",
    "from napari_animation import Animation\n",
    "import napari\n",
    "import skimage\n",
    "import numpy as np\n",
    "import matplotlib.pyplot as plt\n",
    "import scipy"
   ]
  },
  {
   "attachments": {},
   "cell_type": "markdown",
   "metadata": {},
   "source": [
    "1. Render raw image from 0th to nth plane and back to 0th\n",
    "\n",
    "\n",
    "\n",
    "\n",
    "viewer.window.qt_viewer.view.camera.get_state()"
   ]
  },
  {
   "cell_type": "code",
   "execution_count": 1,
   "metadata": {},
   "outputs": [
    {
     "name": "stdout",
     "output_type": "stream",
     "text": [
      "Rendering frames...\n"
     ]
    },
    {
     "name": "stderr",
     "output_type": "stream",
     "text": [
      "  0%|          | 0/121 [00:00<?, ?it/s]IMAGEIO FFMPEG_WRITER WARNING: input image is not divisible by macro_block_size=16, resizing from (1035, 839) to (1040, 848) to ensure video compatibility with most codecs and players. To prevent resizing, make your input image divisible by the macro_block_size or set the macro_block_size to 1 (risking incompatibility).\n",
      "100%|██████████| 121/121 [00:06<00:00, 19.22it/s]\n"
     ]
    }
   ],
   "source": [
    "from scipy import ndimage as ndi\n",
    "from napari_animation import Animation\n",
    "import napari\n",
    "import skimage\n",
    "import scipy\n",
    "from qtpy.QtCore import QTimer\n",
    "\n",
    "viewer = napari.Viewer(ndisplay=3)\n",
    "\n",
    "nuclei = skimage.data.cells3d()[:,1,...]\n",
    "denoised = scipy.ndimage.median_filter(nuclei, size=3)\n",
    "th_nuclei = denoised > skimage.filters.threshold_li(denoised)\n",
    "th_nuclei = skimage.morphology.remove_small_holes(th_nuclei, 20**3)\n",
    "labels_data = skimage.measure.label(th_nuclei)\n",
    "\n",
    "animation = Animation(viewer)\n",
    "\n",
    "image_layer = viewer.add_image(nuclei, name=\"nuclei\", depiction=\"plane\", blending='additive')\n",
    "labels_layer = viewer.add_labels(labels_data, name=\"labels\")\n",
    "\n",
    "viewer.camera.angles = (-18.23797054423494, 41.97404742075617, 141.96173085742896)\n",
    "\n",
    "def replace_labels_data():\n",
    "    z_cutoff = int(image_layer.plane.position[0])\n",
    "    new_labels_data = labels_data.copy()\n",
    "    new_labels_data[z_cutoff:] = 0\n",
    "    labels_layer.data = new_labels_data\n",
    "\n",
    "labels_layer.visible = False\n",
    "image_layer.plane.position = (0, 0, 0)\n",
    "animation.capture_keyframe(steps=30)\n",
    "\n",
    "image_layer.plane.position = (59, 0, 0)\n",
    "animation.capture_keyframe(steps=30)\n",
    "\n",
    "image_layer.plane.position = (0, 0, 0)\n",
    "\n",
    "animation.capture_keyframe(steps=30)\n",
    "\n",
    "image_layer.plane.events.position.connect(replace_labels_data)\n",
    "labels_layer.visible = True\n",
    "labels_layer.experimental_clipping_planes = [{\n",
    "    \"position\": (0, 0, 0),\n",
    "    \"normal\": (-1, 0, 0),  # point up in z (i.e: show stuff above plane)\n",
    "}]\n",
    "\n",
    "image_layer.plane.position = (59, 0, 0)\n",
    "# access first plane, since it's a list\n",
    "labels_layer.experimental_clipping_planes[0].position = (59, 0, 0)\n",
    "animation.capture_keyframe(steps=30)\n",
    "\n",
    "image_layer.plane.position = (0, 0, 0)\n",
    "animation.capture_keyframe(steps=30)\n",
    "\n",
    "animation.animate(\"test.mp4\", canvas_only=True)\n",
    "image_layer.plane.position = (0, 0, 0)"
   ]
  },
  {
   "cell_type": "code",
   "execution_count": null,
   "metadata": {},
   "outputs": [],
   "source": []
  }
 ],
 "metadata": {
  "kernelspec": {
   "display_name": "napari",
   "language": "python",
   "name": "python3"
  },
  "language_info": {
   "codemirror_mode": {
    "name": "ipython",
    "version": 3
   },
   "file_extension": ".py",
   "mimetype": "text/x-python",
   "name": "python",
   "nbconvert_exporter": "python",
   "pygments_lexer": "ipython3",
   "version": "3.9.13"
  },
  "orig_nbformat": 4,
  "vscode": {
   "interpreter": {
    "hash": "b61beb2f0b83ee7b7c6e90d645ba43ae799269ab26ce7423831259b25f89134a"
   }
  }
 },
 "nbformat": 4,
 "nbformat_minor": 2
}

{
 "cells": [
  {
   "cell_type": "code",
   "execution_count": 5,
   "metadata": {},
   "outputs": [],
   "source": [
    "import pandas as pd\n",
    "import torch\n",
    "import os\n",
    "import pathlib\n",
    "import sys\n",
    "sys.path.append(\"../\")\n",
    "\n",
    "from unet.utils.data_utils import generate_patches, save_patches"
   ]
  },
  {
   "cell_type": "code",
   "execution_count": null,
   "metadata": {},
   "outputs": [],
   "source": [
    "# Make a patch dataset\n",
    "# Basically, the ground truth is large 3D images (24, 1024, 1024) (z, y, x), so instead of generating patches on the fly\n",
    "# before feeding to the model, this will allow for batching of different patches to be passed and hopefully \n",
    "# better model performance.\n",
    "\n",
    "load_data = pd.read_csv(\"./data/data.csv\")\n",
    "\n",
    "patch_shape = (24, 200, 200)\n",
    "stride_shape = (24, 100, 100)\n",
    "\n",
    "save_df = {\n",
    "    \"image\": [],\n",
    "    \"label\": []\n",
    "    }\n",
    "\n",
    "for im, ma in zip(load_data.iloc[:, 0].values, load_data.iloc[:, 2].values):\n",
    "    image = torch.from_numpy(skimage.io.imread(im).astype(np.float32))\n",
    "    image_filename = os.path.basename(im)\n",
    "    image_patches = generate_patches(image, patch_shape=patch_shape, stride_shape=stride_shape)\n",
    "    image_save_paths = save_patches(image_patches, image_filename, \"./patch_data/image\")\n",
    "\n",
    "    save_df[\"image\"].extend(image_save_paths)\n",
    "\n",
    "    mask = torch.from_numpy(skimage.io.imread(ma).astype(np.float32))\n",
    "    mask_filename = os.path.basename(ma)\n",
    "    mask_patches = generate_patches(mask, patch_shape=patch_shape, stride_shape=stride_shape)\n",
    "    mask_save_paths = save_patches(mask_patches, mask_filename, \"./patch_data/labels\")\n",
    "\n",
    "    save_df[\"label\"].extend(mask_save_paths)\n",
    "\n",
    "save_df = pd.DataFrame.from_dict(save_df, orient=\"index\").transpose()\n",
    "save_df.to_csv(\"./patch_data/load_data.csv\", index=False)"
   ]
  },
  {
   "cell_type": "code",
   "execution_count": 14,
   "metadata": {},
   "outputs": [],
   "source": [
    "# Make a new DF that excludes acquisition 1, which will be used for testing\n",
    "\n",
    "df = pd.read_csv(\"../patch_data/load_data.csv\")\n",
    "\n",
    "df = df[~df[\"image\"].str.contains(\"acqusition-1\")]\n",
    "\n",
    "df.to_csv(\"../patch_data/load_data_training.csv\", index=False)"
   ]
  }
 ],
 "metadata": {
  "kernelspec": {
   "display_name": "Python 3",
   "language": "python",
   "name": "python3"
  },
  "language_info": {
   "codemirror_mode": {
    "name": "ipython",
    "version": 3
   },
   "file_extension": ".py",
   "mimetype": "text/x-python",
   "name": "python",
   "nbconvert_exporter": "python",
   "pygments_lexer": "ipython3",
   "version": "3.8.10 (default, Jun 22 2022, 20:18:18) \n[GCC 9.4.0]"
  },
  "orig_nbformat": 4,
  "vscode": {
   "interpreter": {
    "hash": "31f2aee4e71d21fbe5cf8b01ff0e069b9275f58929596ceb00d14d90e3e16cd6"
   }
  }
 },
 "nbformat": 4,
 "nbformat_minor": 2
}

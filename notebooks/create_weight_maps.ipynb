{
 "cells": [
  {
   "attachments": {},
   "cell_type": "markdown",
   "metadata": {},
   "source": [
    "Calculating distance transforms in 3D is computationally intensive. So it's a good idea to calculate weight maps beforehand so that they're not created on the fly with other augmentations. This helps bring training time down. "
   ]
  },
  {
   "cell_type": "code",
   "execution_count": 1,
   "metadata": {},
   "outputs": [
    {
     "name": "stderr",
     "output_type": "stream",
     "text": [
      "/Users/ctromans/miniconda3/envs/maddox-dbp/lib/python3.9/site-packages/tqdm/auto.py:22: TqdmWarning: IProgress not found. Please update jupyter and ipywidgets. See https://ipywidgets.readthedocs.io/en/stable/user_install.html\n",
      "  from .autonotebook import tqdm as notebook_tqdm\n"
     ]
    }
   ],
   "source": [
    "import os\n",
    "os.chdir(\"/Users/ctromans/image-analysis/UNet_3D_C_elegans/\")\n",
    "import pandas as pd\n",
    "import skimage\n",
    "import pathlib\n",
    "from unet.utils.data_utils import calculate_weight_map\n",
    "from unet.augmentations.augmentations import edges_and_centroids"
   ]
  },
  {
   "cell_type": "code",
   "execution_count": 2,
   "metadata": {},
   "outputs": [],
   "source": [
    "load_data = pd.read_csv(\"./patch_data/load_data_training.csv\")\n",
    "\n",
    "save_dir = \"./patch_data/weight_maps\"\n",
    "\n",
    "os.makedirs(save_dir, exist_ok=True)\n",
    "\n",
    "weight_map_paths = []\n",
    "\n",
    "for msk in load_data.iloc[:, 1].values:\n",
    "    mask = skimage.io.imread(msk)\n",
    "    # Convert mask to one-hot background, edges, and centroids\n",
    "    converted_mask = edges_and_centroids(mask)\n",
    "    converted_mask = calculate_weight_map(gt_array=converted_mask, labels=mask, centroid_class_index=2, edge_class_index=1, w0=10)\n",
    "\n",
    "    filename = pathlib.Path(os.path.basename(msk))\n",
    "    save_filename = os.path.join(save_dir, filename.stem + \"_weight_map\" + filename.suffix)\n",
    "\n",
    "    skimage.io.imsave(save_filename, converted_mask, compression=('zlib', 1))\n",
    "\n",
    "    weight_map_paths.append(save_filename)\n",
    "\n",
    "load_data[\"weight_maps\"] = weight_map_paths\n",
    "\n"
   ]
  },
  {
   "cell_type": "code",
   "execution_count": 4,
   "metadata": {},
   "outputs": [],
   "source": [
    "load_data.to_csv(\"./patch_data/load_data_training.csv\", index=False)"
   ]
  },
  {
   "cell_type": "code",
   "execution_count": null,
   "metadata": {},
   "outputs": [],
   "source": []
  }
 ],
 "metadata": {
  "kernelspec": {
   "display_name": "maddox-dbp",
   "language": "python",
   "name": "python3"
  },
  "language_info": {
   "codemirror_mode": {
    "name": "ipython",
    "version": 3
   },
   "file_extension": ".py",
   "mimetype": "text/x-python",
   "name": "python",
   "nbconvert_exporter": "python",
   "pygments_lexer": "ipython3",
   "version": "3.9.13 (main, Aug 25 2022, 18:24:45) \n[Clang 12.0.0 ]"
  },
  "orig_nbformat": 4,
  "vscode": {
   "interpreter": {
    "hash": "075cd4bb222163fe48208781b096772c7401b0a6e7eac05801f0c77158161f08"
   }
  }
 },
 "nbformat": 4,
 "nbformat_minor": 2
}
